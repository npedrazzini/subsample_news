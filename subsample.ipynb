{
 "cells": [
  {
   "cell_type": "markdown",
   "metadata": {},
   "source": [
    "# Subsampling"
   ]
  },
  {
   "cell_type": "code",
   "execution_count": 1,
   "metadata": {},
   "outputs": [],
   "source": [
    "import pandas as pd"
   ]
  },
  {
   "cell_type": "markdown",
   "metadata": {},
   "source": [
    "## Import data"
   ]
  },
  {
   "cell_type": "markdown",
   "metadata": {},
   "source": [
    "Import dfs with one article per row. Here the occurrences are split across different dfs based on their OCR quality. Import whichever you want to consider and merge them into one (or don't)."
   ]
  },
  {
   "cell_type": "code",
   "execution_count": 2,
   "metadata": {},
   "outputs": [
    {
     "name": "stderr",
     "output_type": "stream",
     "text": [
      "/var/folders/2h/dt1khhkj6cq8dsr0ccz2l_jr0000gr/T/ipykernel_30976/3549237019.py:1: DtypeWarning: Columns (28) have mixed types. Specify dtype option on import or set low_memory=False.\n",
      "  lwm90news = pd.read_csv('/Users/npedrazzini/Desktop/suicide/data/extracted_words/suicide_withmitchells/mt90_lwm_newspapers_suicid.csv')\n",
      "/var/folders/2h/dt1khhkj6cq8dsr0ccz2l_jr0000gr/T/ipykernel_30976/3549237019.py:2: DtypeWarning: Columns (28,29,30) have mixed types. Specify dtype option on import or set low_memory=False.\n",
      "  hmd90news = pd.read_csv('/Users/npedrazzini/Desktop/suicide/data/extracted_words/suicide_withmitchells/mt90_hmd_newspapers_suicid.csv')\n"
     ]
    }
   ],
   "source": [
    "lwm90news = pd.read_csv('/Users/npedrazzini/Desktop/suicide/data/extracted_words/suicide_withmitchells/mt90_lwm_newspapers_suicid.csv')\n",
    "hmd90news = pd.read_csv('/Users/npedrazzini/Desktop/suicide/data/extracted_words/suicide_withmitchells/mt90_hmd_newspapers_suicid.csv')\n",
    " \n",
    "mergednewsmt90 = pd.concat([lwm90news,hmd90news])"
   ]
  },
  {
   "cell_type": "markdown",
   "metadata": {},
   "source": [
    "If you use the variable 'CATEGORY' (e.g. london, provincial, etc.) for subsampling, note that several values are missing (is there a more complete version of this variable?). One known oft-missing category is for London newspapers. So add that manually:"
   ]
  },
  {
   "cell_type": "code",
   "execution_count": 3,
   "metadata": {},
   "outputs": [],
   "source": [
    "mergednewsmt90.loc[mergednewsmt90['county'] == 'london', 'CATEGORY'] = 'london'"
   ]
  },
  {
   "cell_type": "markdown",
   "metadata": {},
   "source": [
    "Importing also occurrences in newspapers with OCR less than or equal to 0.90, to compare."
   ]
  },
  {
   "cell_type": "code",
   "execution_count": 69,
   "metadata": {},
   "outputs": [],
   "source": [
    "lwmlt90news = pd.read_csv('/Users/npedrazzini/Desktop/suicide/data/extracted_words/suicide_withmitchells/lte90_lwm_newspapers_suicid.csv')\n",
    "hmdlt90news = pd.read_csv('/Users/npedrazzini/Desktop/suicide/data/extracted_words/suicide_withmitchells/lte90_hmd_newspapers_suicid.csv')\n",
    " \n",
    "mergednewslte90 = pd.concat([lwmlt90news,hmdlt90news])"
   ]
  },
  {
   "cell_type": "code",
   "execution_count": 91,
   "metadata": {},
   "outputs": [],
   "source": [
    "mergednewslte90.loc[mergednewslte90['county'] == 'london', 'CATEGORY'] = 'london'"
   ]
  },
  {
   "cell_type": "markdown",
   "metadata": {},
   "source": [
    "## Quick exploration"
   ]
  },
  {
   "cell_type": "code",
   "execution_count": 92,
   "metadata": {},
   "outputs": [
    {
     "data": {
      "text/plain": [
       "NaN           20512\n",
       "london        14439\n",
       "provincial    10925\n",
       "welsh          2252\n",
       "scottish       1144\n",
       "Name: CATEGORY, dtype: int64"
      ]
     },
     "execution_count": 92,
     "metadata": {},
     "output_type": "execute_result"
    }
   ],
   "source": [
    "mergednewsmt90['CATEGORY'].value_counts(dropna=False)"
   ]
  },
  {
   "cell_type": "markdown",
   "metadata": {},
   "source": [
    "Which counties have a missing value for 'CATEGORY':"
   ]
  },
  {
   "cell_type": "code",
   "execution_count": 118,
   "metadata": {},
   "outputs": [
    {
     "data": {
      "text/plain": [
       "lancashire        5366\n",
       "NaN               4963\n",
       "yorkshire         1725\n",
       "glamorganshire    1386\n",
       "durham            1169\n",
       "worcestershire    1132\n",
       "dorsetshire       1052\n",
       "lanarkshire       1009\n",
       "warwickshire       918\n",
       "cheshire           857\n",
       "staffordshire      725\n",
       "cumberland         172\n",
       "ayrshire            38\n",
       "Name: county, dtype: int64"
      ]
     },
     "execution_count": 118,
     "metadata": {},
     "output_type": "execute_result"
    }
   ],
   "source": [
    "mergednewsmt90[mergednewsmt90['CATEGORY'].isna()]['county'].value_counts(dropna=False)"
   ]
  },
  {
   "cell_type": "code",
   "execution_count": 95,
   "metadata": {},
   "outputs": [
    {
     "data": {
      "text/plain": [
       "NaN           10895\n",
       "london         9990\n",
       "provincial     4547\n",
       "welsh          1381\n",
       "scottish         72\n",
       "Name: CATEGORY, dtype: int64"
      ]
     },
     "execution_count": 95,
     "metadata": {},
     "output_type": "execute_result"
    }
   ],
   "source": [
    "mergednewslte90['CATEGORY'].value_counts(dropna=False)"
   ]
  },
  {
   "cell_type": "code",
   "execution_count": 117,
   "metadata": {},
   "outputs": [
    {
     "data": {
      "text/plain": [
       "NaN                3072\n",
       "lancashire         2314\n",
       "dorsetshire        1614\n",
       "yorkshire           832\n",
       "glamorganshire      677\n",
       "cheshire            569\n",
       "staffordshire       422\n",
       "worcestershire      400\n",
       "warwickshire        340\n",
       "durham              331\n",
       "lanarkshire         228\n",
       "gloucestershire      83\n",
       "cumberland            9\n",
       "ayrshire              4\n",
       "Name: county, dtype: int64"
      ]
     },
     "execution_count": 117,
     "metadata": {},
     "output_type": "execute_result"
    }
   ],
   "source": [
    "mergednewslte90[mergednewslte90['CATEGORY'].isna()]['county'].value_counts(dropna=False)"
   ]
  },
  {
   "cell_type": "code",
   "execution_count": 121,
   "metadata": {},
   "outputs": [
    {
     "data": {
      "text/plain": [
       "liberal         24711\n",
       "neutral          6634\n",
       "independent      6160\n",
       "NaN              5913\n",
       "conservative     5757\n",
       "radical            97\n",
       "Name: S-POL, dtype: int64"
      ]
     },
     "execution_count": 121,
     "metadata": {},
     "output_type": "execute_result"
    }
   ],
   "source": [
    "mergednewsmt90['S-POL'].value_counts(dropna=False)"
   ]
  },
  {
   "cell_type": "code",
   "execution_count": 122,
   "metadata": {},
   "outputs": [
    {
     "data": {
      "text/plain": [
       "liberal         13407\n",
       "NaN              4106\n",
       "independent      4052\n",
       "neutral          3141\n",
       "conservative     2174\n",
       "radical             5\n",
       "Name: S-POL, dtype: int64"
      ]
     },
     "execution_count": 122,
     "metadata": {},
     "output_type": "execute_result"
    }
   ],
   "source": [
    "mergednewslte90['S-POL'].value_counts(dropna=False)"
   ]
  },
  {
   "cell_type": "code",
   "execution_count": 123,
   "metadata": {},
   "outputs": [
    {
     "data": {
      "text/html": [
       "<div>\n",
       "<style scoped>\n",
       "    .dataframe tbody tr th:only-of-type {\n",
       "        vertical-align: middle;\n",
       "    }\n",
       "\n",
       "    .dataframe tbody tr th {\n",
       "        vertical-align: top;\n",
       "    }\n",
       "\n",
       "    .dataframe thead th {\n",
       "        text-align: right;\n",
       "    }\n",
       "</style>\n",
       "<table border=\"1\" class=\"dataframe\">\n",
       "  <thead>\n",
       "    <tr style=\"text-align: right;\">\n",
       "      <th>CATEGORY</th>\n",
       "      <th>london</th>\n",
       "      <th>provincial</th>\n",
       "      <th>scottish</th>\n",
       "      <th>welsh</th>\n",
       "    </tr>\n",
       "    <tr>\n",
       "      <th>S-POL</th>\n",
       "      <th></th>\n",
       "      <th></th>\n",
       "      <th></th>\n",
       "      <th></th>\n",
       "    </tr>\n",
       "  </thead>\n",
       "  <tbody>\n",
       "    <tr>\n",
       "      <th>conservative</th>\n",
       "      <td>190</td>\n",
       "      <td>673</td>\n",
       "      <td>933</td>\n",
       "      <td>0</td>\n",
       "    </tr>\n",
       "    <tr>\n",
       "      <th>independent</th>\n",
       "      <td>41</td>\n",
       "      <td>1854</td>\n",
       "      <td>71</td>\n",
       "      <td>1239</td>\n",
       "    </tr>\n",
       "    <tr>\n",
       "      <th>liberal</th>\n",
       "      <td>13901</td>\n",
       "      <td>5167</td>\n",
       "      <td>140</td>\n",
       "      <td>364</td>\n",
       "    </tr>\n",
       "    <tr>\n",
       "      <th>neutral</th>\n",
       "      <td>174</td>\n",
       "      <td>2761</td>\n",
       "      <td>0</td>\n",
       "      <td>568</td>\n",
       "    </tr>\n",
       "    <tr>\n",
       "      <th>radical</th>\n",
       "      <td>97</td>\n",
       "      <td>0</td>\n",
       "      <td>0</td>\n",
       "      <td>0</td>\n",
       "    </tr>\n",
       "  </tbody>\n",
       "</table>\n",
       "</div>"
      ],
      "text/plain": [
       "CATEGORY      london  provincial  scottish  welsh\n",
       "S-POL                                            \n",
       "conservative     190         673       933      0\n",
       "independent       41        1854        71   1239\n",
       "liberal        13901        5167       140    364\n",
       "neutral          174        2761         0    568\n",
       "radical           97           0         0      0"
      ]
     },
     "execution_count": 123,
     "metadata": {},
     "output_type": "execute_result"
    }
   ],
   "source": [
    "pd.crosstab(mergednewsmt90['S-POL'],mergednewsmt90['CATEGORY'])"
   ]
  },
  {
   "cell_type": "code",
   "execution_count": 124,
   "metadata": {},
   "outputs": [
    {
     "data": {
      "text/html": [
       "<div>\n",
       "<style scoped>\n",
       "    .dataframe tbody tr th:only-of-type {\n",
       "        vertical-align: middle;\n",
       "    }\n",
       "\n",
       "    .dataframe tbody tr th {\n",
       "        vertical-align: top;\n",
       "    }\n",
       "\n",
       "    .dataframe thead th {\n",
       "        text-align: right;\n",
       "    }\n",
       "</style>\n",
       "<table border=\"1\" class=\"dataframe\">\n",
       "  <thead>\n",
       "    <tr style=\"text-align: right;\">\n",
       "      <th>CATEGORY</th>\n",
       "      <th>london</th>\n",
       "      <th>provincial</th>\n",
       "      <th>scottish</th>\n",
       "      <th>welsh</th>\n",
       "    </tr>\n",
       "    <tr>\n",
       "      <th>S-POL</th>\n",
       "      <th></th>\n",
       "      <th></th>\n",
       "      <th></th>\n",
       "      <th></th>\n",
       "    </tr>\n",
       "  </thead>\n",
       "  <tbody>\n",
       "    <tr>\n",
       "      <th>conservative</th>\n",
       "      <td>31</td>\n",
       "      <td>538</td>\n",
       "      <td>51</td>\n",
       "      <td>0</td>\n",
       "    </tr>\n",
       "    <tr>\n",
       "      <th>independent</th>\n",
       "      <td>0</td>\n",
       "      <td>778</td>\n",
       "      <td>8</td>\n",
       "      <td>1097</td>\n",
       "    </tr>\n",
       "    <tr>\n",
       "      <th>liberal</th>\n",
       "      <td>9305</td>\n",
       "      <td>1948</td>\n",
       "      <td>13</td>\n",
       "      <td>161</td>\n",
       "    </tr>\n",
       "    <tr>\n",
       "      <th>neutral</th>\n",
       "      <td>19</td>\n",
       "      <td>1103</td>\n",
       "      <td>0</td>\n",
       "      <td>116</td>\n",
       "    </tr>\n",
       "    <tr>\n",
       "      <th>radical</th>\n",
       "      <td>5</td>\n",
       "      <td>0</td>\n",
       "      <td>0</td>\n",
       "      <td>0</td>\n",
       "    </tr>\n",
       "  </tbody>\n",
       "</table>\n",
       "</div>"
      ],
      "text/plain": [
       "CATEGORY      london  provincial  scottish  welsh\n",
       "S-POL                                            \n",
       "conservative      31         538        51      0\n",
       "independent        0         778         8   1097\n",
       "liberal         9305        1948        13    161\n",
       "neutral           19        1103         0    116\n",
       "radical            5           0         0      0"
      ]
     },
     "execution_count": 124,
     "metadata": {},
     "output_type": "execute_result"
    }
   ],
   "source": [
    "pd.crosstab(mergednewslte90['S-POL'],mergednewslte90['CATEGORY'])"
   ]
  },
  {
   "cell_type": "markdown",
   "metadata": {},
   "source": [
    "## Comparison with the complete metadata"
   ]
  },
  {
   "cell_type": "code",
   "execution_count": 78,
   "metadata": {},
   "outputs": [
    {
     "name": "stderr",
     "output_type": "stream",
     "text": [
      "/var/folders/2h/dt1khhkj6cq8dsr0ccz2l_jr0000gr/T/ipykernel_96983/392602101.py:1: DtypeWarning: Columns (12,13,14,15,16,19) have mixed types. Specify dtype option on import or set low_memory=False.\n",
      "  lwmmt90meta = pd.read_csv('/Users/npedrazzini/Desktop/Azure/processed_data/metadata_withmitchells/mt90_lwmnewspapers-meta.csv')\n",
      "/var/folders/2h/dt1khhkj6cq8dsr0ccz2l_jr0000gr/T/ipykernel_96983/392602101.py:2: DtypeWarning: Columns (12,13,14,15,16,19) have mixed types. Specify dtype option on import or set low_memory=False.\n",
      "  hmdmt90meta = pd.read_csv('/Users/npedrazzini/Desktop/Azure/processed_data/metadata_withmitchells/mt90_hmdnewspapers-meta.csv')\n"
     ]
    }
   ],
   "source": [
    "lwmmt90meta = pd.read_csv('mt90_lwmnewspapers-meta.csv')\n",
    "hmdmt90meta = pd.read_csv('mt90_hmdnewspapers-meta.csv')\n",
    "mergednewsmt90meta = pd.concat([lwmmt90meta,hmdmt90meta])"
   ]
  },
  {
   "cell_type": "code",
   "execution_count": 79,
   "metadata": {},
   "outputs": [
    {
     "data": {
      "text/plain": [
       "liberal         725516\n",
       "conservative     13647\n",
       "neutral           4713\n",
       "radical           4050\n",
       "independent       1691\n",
       "Name: S-POL, dtype: int64"
      ]
     },
     "execution_count": 79,
     "metadata": {},
     "output_type": "execute_result"
    }
   ],
   "source": [
    "mergednewsmt90meta[mergednewsmt90meta['county'] == 'london']['S-POL'].value_counts()"
   ]
  },
  {
   "cell_type": "code",
   "execution_count": 82,
   "metadata": {},
   "outputs": [
    {
     "data": {
      "text/plain": [
       "[2645]"
      ]
     },
     "execution_count": 82,
     "metadata": {},
     "output_type": "execute_result"
    }
   ],
   "source": [
    "list(dict.fromkeys(list(mergednewsmt90meta[(mergednewsmt90meta['county'] == 'london') & (mergednewsmt90meta['S-POL'] == 'conservative')]['NLP'])))"
   ]
  },
  {
   "cell_type": "markdown",
   "metadata": {},
   "source": [
    "## Prepare for subsampling"
   ]
  },
  {
   "cell_type": "markdown",
   "metadata": {},
   "source": [
    "Check what you're left with after subsetting/combining variables."
   ]
  },
  {
   "cell_type": "code",
   "execution_count": 4,
   "metadata": {},
   "outputs": [],
   "source": [
    "# mergednews[mergednews['word_count'] >= 500]\n",
    "df_filtered = mergednewsmt90[(mergednewsmt90['word_count'] >= 300) & (mergednewsmt90['word_count'] < 1000)]\n",
    "\n",
    "# Splitting by CATEGORY\n",
    "london = df_filtered[df_filtered['CATEGORY'] == 'london']\n",
    "notlondon = df_filtered[(df_filtered['CATEGORY'] == 'provincial')]"
   ]
  },
  {
   "cell_type": "code",
   "execution_count": 5,
   "metadata": {},
   "outputs": [
    {
     "name": "stdout",
     "output_type": "stream",
     "text": [
      "2553\n",
      "3499\n"
     ]
    }
   ],
   "source": [
    "print(len(london))\n",
    "print(len(notlondon))"
   ]
  },
  {
   "cell_type": "code",
   "execution_count": 6,
   "metadata": {},
   "outputs": [
    {
     "data": {
      "text/plain": [
       "4.5    2264\n",
       "2.5      76\n",
       "1.0      44\n",
       "3.5      22\n",
       "2.0      18\n",
       "1.5      10\n",
       "3.0       8\n",
       "Name: price, dtype: int64"
      ]
     },
     "execution_count": 6,
     "metadata": {},
     "output_type": "execute_result"
    }
   ],
   "source": [
    "london[(london['S-POL'] == 'liberal')]['price'].value_counts()"
   ]
  },
  {
   "cell_type": "code",
   "execution_count": 7,
   "metadata": {},
   "outputs": [
    {
     "data": {
      "text/plain": [
       "5.5    43\n",
       "Name: price, dtype: int64"
      ]
     },
     "execution_count": 7,
     "metadata": {},
     "output_type": "execute_result"
    }
   ],
   "source": [
    "london[(london['S-POL'] == 'conservative')]['price'].value_counts()"
   ]
  },
  {
   "cell_type": "code",
   "execution_count": 8,
   "metadata": {},
   "outputs": [
    {
     "data": {
      "text/plain": [
       "1.0    1556\n",
       "1.5      76\n",
       "0.5      16\n",
       "2.0      11\n",
       "Name: price, dtype: int64"
      ]
     },
     "execution_count": 8,
     "metadata": {},
     "output_type": "execute_result"
    }
   ],
   "source": [
    "notlondon[(notlondon['S-POL'] == 'liberal')]['price'].value_counts()"
   ]
  },
  {
   "cell_type": "code",
   "execution_count": 9,
   "metadata": {},
   "outputs": [
    {
     "data": {
      "text/plain": [
       "0.5    71\n",
       "1.0    44\n",
       "4.0     9\n",
       "1.5     8\n",
       "Name: price, dtype: int64"
      ]
     },
     "execution_count": 9,
     "metadata": {},
     "output_type": "execute_result"
    }
   ],
   "source": [
    "notlondon[(notlondon['S-POL'] == 'conservative')]['price'].value_counts()"
   ]
  },
  {
   "cell_type": "code",
   "execution_count": 10,
   "metadata": {},
   "outputs": [
    {
     "data": {
      "text/plain": [
       "2.5    26\n",
       "1.5    13\n",
       "Name: price, dtype: int64"
      ]
     },
     "execution_count": 10,
     "metadata": {},
     "output_type": "execute_result"
    }
   ],
   "source": [
    "london[(london['S-POL'] == 'independent') | (london['S-POL'] == 'neutral')]['price'].value_counts()"
   ]
  },
  {
   "cell_type": "code",
   "execution_count": 11,
   "metadata": {},
   "outputs": [
    {
     "data": {
      "text/plain": [
       "1.0    1334\n",
       "0.5     126\n",
       "2.0      34\n",
       "1.5      32\n",
       "2.5      24\n",
       "Name: price, dtype: int64"
      ]
     },
     "execution_count": 11,
     "metadata": {},
     "output_type": "execute_result"
    }
   ],
   "source": [
    "notlondon[(notlondon['S-POL'] == 'independent') | (notlondon['S-POL'] == 'neutral')]['price'].value_counts()"
   ]
  },
  {
   "cell_type": "code",
   "execution_count": 12,
   "metadata": {},
   "outputs": [
    {
     "data": {
      "text/plain": [
       "4.5    2264\n",
       "2.5     121\n",
       "1.0      44\n",
       "5.5      43\n",
       "1.5      23\n",
       "3.5      22\n",
       "2.0      18\n",
       "7.0      10\n",
       "3.0       8\n",
       "Name: price, dtype: int64"
      ]
     },
     "execution_count": 12,
     "metadata": {},
     "output_type": "execute_result"
    }
   ],
   "source": [
    "london['price'].value_counts()"
   ]
  },
  {
   "cell_type": "code",
   "execution_count": 13,
   "metadata": {},
   "outputs": [
    {
     "data": {
      "text/plain": [
       "1.0    3050\n",
       "0.5     228\n",
       "1.5     116\n",
       "2.0      45\n",
       "2.5      24\n",
       "4.0       9\n",
       "Name: price, dtype: int64"
      ]
     },
     "execution_count": 13,
     "metadata": {},
     "output_type": "execute_result"
    }
   ],
   "source": [
    "notlondon['price'].value_counts()"
   ]
  },
  {
   "cell_type": "code",
   "execution_count": 14,
   "metadata": {},
   "outputs": [
    {
     "data": {
      "text/plain": [
       "liberal         1659\n",
       "neutral          987\n",
       "independent      563\n",
       "conservative     146\n",
       "NaN              144\n",
       "Name: S-POL, dtype: int64"
      ]
     },
     "execution_count": 14,
     "metadata": {},
     "output_type": "execute_result"
    }
   ],
   "source": [
    "notlondon['S-POL'].value_counts(dropna=False)"
   ]
  },
  {
   "cell_type": "code",
   "execution_count": 15,
   "metadata": {},
   "outputs": [
    {
     "data": {
      "text/plain": [
       "liberal         2442\n",
       "conservative      43\n",
       "neutral           26\n",
       "radical           19\n",
       "independent       13\n",
       "NaN               10\n",
       "Name: S-POL, dtype: int64"
      ]
     },
     "execution_count": 15,
     "metadata": {},
     "output_type": "execute_result"
    }
   ],
   "source": [
    "london['S-POL'].value_counts(dropna=False)"
   ]
  },
  {
   "cell_type": "markdown",
   "metadata": {},
   "source": [
    "## Generate subsample"
   ]
  },
  {
   "cell_type": "markdown",
   "metadata": {},
   "source": [
    "The following will create a subsample of 36 articles, 12 for each s_pol. For each s_pol, it will take half from London newspapers, half from non-London newspapers. From each of these, it will take half at the lower price point, half at the higher price point, if available. "
   ]
  },
  {
   "cell_type": "code",
   "execution_count": 24,
   "metadata": {},
   "outputs": [],
   "source": [
    "sampledf = pd.DataFrame()\n",
    "\n",
    "price_point = 3 # will try to sample equaly from above this price and equal/below this price\n",
    "\n",
    "for s_pol in [['liberal'], ['neutral','independent'], ['conservative']]:\n",
    "    \n",
    "    londonpol = london[london['S-POL'].isin(s_pol)]\n",
    "    notlondonpol = notlondon[notlondon['S-POL'].isin(s_pol)]\n",
    "    \n",
    "    for df in [londonpol,notlondonpol]:\n",
    "        low_price = df[df['price'] <= price_point]\n",
    "        high_price = df[df['price'] > price_point]\n",
    "        if len(low_price) != 0:\n",
    "            if len(high_price) != 0:\n",
    "                sampledf = pd.concat([sampledf,low_price.sample(n=3,random_state=124)])\n",
    "                sampledf = pd.concat([sampledf,high_price.sample(n=3,random_state=124)])\n",
    "            else:\n",
    "                sampledf = pd.concat([sampledf,low_price.sample(n=6,random_state=124)])\n",
    "        else:\n",
    "            if len(high_price) != 0:\n",
    "                sampledf = pd.concat([sampledf,high_price.sample(n=6,random_state=124)])\n",
    "            else:\n",
    "                continue"
   ]
  },
  {
   "cell_type": "code",
   "execution_count": 25,
   "metadata": {},
   "outputs": [],
   "source": [
    "sampledf.to_csv('suicide_subsample.csv',index=False)"
   ]
  },
  {
   "cell_type": "code",
   "execution_count": 26,
   "metadata": {},
   "outputs": [
    {
     "data": {
      "text/html": [
       "<div>\n",
       "<style scoped>\n",
       "    .dataframe tbody tr th:only-of-type {\n",
       "        vertical-align: middle;\n",
       "    }\n",
       "\n",
       "    .dataframe tbody tr th {\n",
       "        vertical-align: top;\n",
       "    }\n",
       "\n",
       "    .dataframe thead th {\n",
       "        text-align: right;\n",
       "    }\n",
       "</style>\n",
       "<table border=\"1\" class=\"dataframe\">\n",
       "  <thead>\n",
       "    <tr style=\"text-align: right;\">\n",
       "      <th>CATEGORY</th>\n",
       "      <th>london</th>\n",
       "      <th>provincial</th>\n",
       "    </tr>\n",
       "    <tr>\n",
       "      <th>S-POL</th>\n",
       "      <th></th>\n",
       "      <th></th>\n",
       "    </tr>\n",
       "  </thead>\n",
       "  <tbody>\n",
       "    <tr>\n",
       "      <th>conservative</th>\n",
       "      <td>6</td>\n",
       "      <td>6</td>\n",
       "    </tr>\n",
       "    <tr>\n",
       "      <th>independent</th>\n",
       "      <td>1</td>\n",
       "      <td>3</td>\n",
       "    </tr>\n",
       "    <tr>\n",
       "      <th>liberal</th>\n",
       "      <td>6</td>\n",
       "      <td>6</td>\n",
       "    </tr>\n",
       "    <tr>\n",
       "      <th>neutral</th>\n",
       "      <td>5</td>\n",
       "      <td>3</td>\n",
       "    </tr>\n",
       "  </tbody>\n",
       "</table>\n",
       "</div>"
      ],
      "text/plain": [
       "CATEGORY      london  provincial\n",
       "S-POL                           \n",
       "conservative       6           6\n",
       "independent        1           3\n",
       "liberal            6           6\n",
       "neutral            5           3"
      ]
     },
     "execution_count": 26,
     "metadata": {},
     "output_type": "execute_result"
    }
   ],
   "source": [
    "pd.crosstab(sampledf['S-POL'],sampledf['CATEGORY'])"
   ]
  },
  {
   "cell_type": "code",
   "execution_count": 27,
   "metadata": {},
   "outputs": [
    {
     "data": {
      "text/html": [
       "<div>\n",
       "<style scoped>\n",
       "    .dataframe tbody tr th:only-of-type {\n",
       "        vertical-align: middle;\n",
       "    }\n",
       "\n",
       "    .dataframe tbody tr th {\n",
       "        vertical-align: top;\n",
       "    }\n",
       "\n",
       "    .dataframe thead th {\n",
       "        text-align: right;\n",
       "    }\n",
       "</style>\n",
       "<table border=\"1\" class=\"dataframe\">\n",
       "  <thead>\n",
       "    <tr style=\"text-align: right;\">\n",
       "      <th>CATEGORY</th>\n",
       "      <th>london</th>\n",
       "      <th>provincial</th>\n",
       "    </tr>\n",
       "    <tr>\n",
       "      <th>price</th>\n",
       "      <th></th>\n",
       "      <th></th>\n",
       "    </tr>\n",
       "  </thead>\n",
       "  <tbody>\n",
       "    <tr>\n",
       "      <th>0.5</th>\n",
       "      <td>0</td>\n",
       "      <td>3</td>\n",
       "    </tr>\n",
       "    <tr>\n",
       "      <th>1.0</th>\n",
       "      <td>0</td>\n",
       "      <td>11</td>\n",
       "    </tr>\n",
       "    <tr>\n",
       "      <th>1.5</th>\n",
       "      <td>1</td>\n",
       "      <td>0</td>\n",
       "    </tr>\n",
       "    <tr>\n",
       "      <th>2.0</th>\n",
       "      <td>1</td>\n",
       "      <td>0</td>\n",
       "    </tr>\n",
       "    <tr>\n",
       "      <th>2.5</th>\n",
       "      <td>7</td>\n",
       "      <td>1</td>\n",
       "    </tr>\n",
       "    <tr>\n",
       "      <th>4.0</th>\n",
       "      <td>0</td>\n",
       "      <td>3</td>\n",
       "    </tr>\n",
       "    <tr>\n",
       "      <th>4.5</th>\n",
       "      <td>3</td>\n",
       "      <td>0</td>\n",
       "    </tr>\n",
       "    <tr>\n",
       "      <th>5.5</th>\n",
       "      <td>6</td>\n",
       "      <td>0</td>\n",
       "    </tr>\n",
       "  </tbody>\n",
       "</table>\n",
       "</div>"
      ],
      "text/plain": [
       "CATEGORY  london  provincial\n",
       "price                       \n",
       "0.5            0           3\n",
       "1.0            0          11\n",
       "1.5            1           0\n",
       "2.0            1           0\n",
       "2.5            7           1\n",
       "4.0            0           3\n",
       "4.5            3           0\n",
       "5.5            6           0"
      ]
     },
     "execution_count": 27,
     "metadata": {},
     "output_type": "execute_result"
    }
   ],
   "source": [
    "pd.crosstab(sampledf['price'],sampledf['CATEGORY'])"
   ]
  }
 ],
 "metadata": {
  "kernelspec": {
   "display_name": "Python 3",
   "language": "python",
   "name": "python3"
  },
  "language_info": {
   "codemirror_mode": {
    "name": "ipython",
    "version": 3
   },
   "file_extension": ".py",
   "mimetype": "text/x-python",
   "name": "python",
   "nbconvert_exporter": "python",
   "pygments_lexer": "ipython3",
   "version": "3.10.3"
  }
 },
 "nbformat": 4,
 "nbformat_minor": 2
}
